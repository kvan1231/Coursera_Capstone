{
 "cells": [
  {
   "cell_type": "markdown",
   "id": "nearby-canvas",
   "metadata": {},
   "source": [
    "# The Battle of Neighborhoods | Report\n",
    "### Author: Kenny Van"
   ]
  },
  {
   "cell_type": "markdown",
   "id": "anonymous-shirt",
   "metadata": {},
   "source": [
    "## Introductiom"
   ]
  },
  {
   "cell_type": "markdown",
   "id": "productive-electronics",
   "metadata": {},
   "source": [
    "The purpose of this project is to preform an introductory analysis of Edmonton, the capital of Alberta. Edmonton is the second most populous city in the province with a touch under a million residents as of 2016 spread over 685.25 km$^2$. Being a decently sized city, there are a wide range of venues with multiple universities, shopping centres and recreational areas. \n",
    "\n",
    "We will be aiming to create an analysis using the techniques learned in the specialization to generate information useful to those who currently live in Edmonton and people interested in moving there. We will also generate information on what amenities are where for developers looking to start a business in Edmonton. This analysis is aimed at trying to determine if there are any neighbourhoods in Edmonton that lack any of the following:\n",
    "\n",
    "1. Ease of access to indoor physical activities\n",
    "    - Physical activity is an important part of a healthy lifestyle, due to the long and cold winter in Edmonton, outdoor physical activities during the months of October-February become difficult or even dangerous. As such, easy access to indoor physical activities in venues such as a gym or recreational center would be an important property to look for in choosing a neighbourhood.\n",
    "\n",
    "2. Ease of access to food, either restaurants or grocery stores\n",
    "    - Food accessibility is an important property when choosing a neighbourhood. Whether this comes in the form of restaurants or grocery stores, lack of accessibility to these options can be a huge problem for many people. Compounded with any difficulties in transportation, having more access to restaurants or grocery stores would be a significant positive when choosing neighbourhoods. In addition, the analysis can serve as a preliminary check for any developers in either industry for locations to open a store.\n",
    "\n",
    "3. Ease of access to furniture stores\n",
    "    - Unlike points 1 and 2, this is less important, but for anyone planning on moving to Edmonton or moving from one neighbourhood to another, ease of access to furniture and housing goods can influence their decision. An additional outcome of this analysis would also give us an opportunity to give recommendations for future development in this industry.\n",
    "\n",
    "By learning more about these three properties about Edmonton, we can give recommendations for neighbourhoods based on how highly an individual prioritizes these three aspects of our analysis. Inversely, we can also show which neighbourhoods are lacking in these aspects and draw conclusions about the structure of the city in relation to these gaps in physical activity opportunities, food options or furniture stores.\n"
   ]
  },
  {
   "cell_type": "markdown",
   "id": "secret-salad",
   "metadata": {},
   "source": [
    "## Data"
   ]
  },
  {
   "cell_type": "markdown",
   "id": "irish-hurricane",
   "metadata": {},
   "source": [
    "### Neighbourhood Data:\n",
    "The neighbourhood information of the city will be scraped from wikipedia: https://en.wikipedia.org/wiki/List_of_postal_codes_of_Canada:_T\n",
    "\n",
    "We will only keep results where the borough contains the word \"Edmonton\"\n",
    "\n",
    "### Foursquare API:\n",
    "This project will use the Foursquare API to gather venue information similar to what was done in week 3 for Toronto\n",
    "\n",
    "#### Indoor Physical Activity\n",
    "Using the Foursquare results we can search for a variety of possible indoor physical activity venues ranging from gyms to recreation centres to learn more about this data.\n",
    "\n",
    "#### Restaurants/Grocery Stores\n",
    "Again using the Foursquare API we can determine the number of restaurants and grocery stores near a neighbourhood.\n",
    "\n",
    "#### Furniture Stores\n",
    "Finding all of the furniture stores in Edmonton we can try to find any gaps in the map to determine if it is reasonable to open an additional Ikea."
   ]
  },
  {
   "cell_type": "markdown",
   "id": "brazilian-canvas",
   "metadata": {},
   "source": [
    "## Methodology"
   ]
  },
  {
   "cell_type": "markdown",
   "id": "sunrise-yukon",
   "metadata": {},
   "source": [
    "All steps in our methodology will be covered in the _Jupyter Notebook_. In general our steps will be:\n",
    "1. Generate the DataFrames\n",
    "    - Scrape wikipedia for the postal codes\n",
    "    - Filter postal codes to boroughs that contain the name \"Edmonton\"\n",
    "    - Remove any rows where we're missing data\n",
    "    - Ensure the longitude and latitude values are floats\n",
    "2. Explore the neighbourhoods using FourSquare\n",
    "    - Approximate a useful search radius to find venues\n",
    "    - Search each neighbourhood in our list for venues\n",
    "3. Search our venue data for the relevant venues(physical activity, restaurants/grocery store and furniture stores)\n",
    "    - Define which venues are relevant to our search, this varies depending on the property of interest.\n",
    "    - Combine our dataframes with all of these different venues together\n",
    "    - Remove any duplicates that were found in multiple search radii\n",
    "    - Determine which neighbourhoods have easy access to these venues\n",
    "    - Generate a plot with our venues of interest and the locations of the neighbourhoods to ensure we don't have any false positives for neighbourhoods lacking in easy access to the venue."
   ]
  },
  {
   "cell_type": "markdown",
   "id": "intended-eating",
   "metadata": {},
   "source": [
    "### Generate the Dataframes\n",
    "To generate our dataframes containing the information about neighbourhoods in Edmonton, we first had to scrape Wikipedia for information. Similar to what is done in the example exercise, we found the appropriate webpage with all of the postal codes in the province of Alberta.\n",
    "\n",
    "(https://en.wikipedia.org/wiki/List_of_postal_codes_of_Canada:_T)\n",
    "\n",
    "\n",
    "This data was then filtered to only contain locations within Edmonton and remove any rows missing information. Additionally, I also needed to ensure that the longitude and latitude values scraped from the website were floats to enable plotting of the data. This allowed us to create a preliminary map of all neighbourhoods within the city.\n",
    "\n",
    "![map_of_Edm](Edmonton_Neighbourhoods.png)\n",
    "\n",
    "We will be using blue as the colour showing the location of our neighbourhoods throughout this report. This distribution of neighbourhoods allow us to search each one using the FourSquare API to gather venue information that we're interested in. "
   ]
  },
  {
   "cell_type": "markdown",
   "id": "electrical-philippines",
   "metadata": {},
   "source": [
    "### Explore the Neighbourhoods Using FourSquare\n",
    "\n",
    "Using our list of neighbourhoods, I was able to use the FourSquare API to search for venues within each of the neighbourhoods. Unfortunately due to how close some of the neighbourhoods are to one another there was some overlap but we deal with this in our analysis. The FourSquare API requires us to define a radius to search from, unfortunately because the neighbourhoods are not evenly distributed this is rather difficult to have a perfect radius to find all of the venues. Choosing the appropriate radius is difficult, with a large radius we'll get significant overlap and if the radius is too small we wont accurately scan the neighbourhood. The area of Edmonton is:\n",
    "\n",
    "$A_{\\rm edm} = 684 \\rm km^2$\n",
    "\n",
    "Assuming that the neighbourhoods are evenly distributed across the city, Edmonton is a perfect circle, we can make a rough split of the city into equal sized chunks to get a search radius.\n",
    "\n",
    "$N_{\\rm neigh} = 38 \\\\$\n",
    "$r_{\\rm search} = \\sqrt{\\frac{A_{\\rm edm}}  {\\pi N_{\\rm neigh}}}\\\\$ \n",
    "$r_{\\rm search} \\sim 2.4 \\rm km$\n",
    "\n",
    "We use a 2.5km search radius using the FourSquare API. \n",
    "The FourSquare search returns the following information:\n",
    "\n",
    "1. Neighbourhood\n",
    "2. Neighbourhood Latitude\n",
    "3. Neighbourhood Longitude\n",
    "4. Venue\n",
    "5. Name of the venue\n",
    "6. Venue Latitude\n",
    "7. Venue Longitude\n",
    "8. Venue Category\n",
    "\n",
    "Using this information we can perform an analysis to answer gain insight on the city of Edmonton"
   ]
  },
  {
   "cell_type": "markdown",
   "id": "metric-accent",
   "metadata": {},
   "source": [
    "### Search Our Venue Data for the Relevant Venues\n",
    "\n",
    "For all 3 questions of interest, there are specific venue categories that would be useful in gaining insight.\n",
    "\n",
    "1. Ease of access to indoor physical activities\n",
    "    - This should cover any venue that could reasonably be used for indoor physical activites. This included:\n",
    "       - Climbing Gym\n",
    "       - College Gym\n",
    "       - Gym / Fitness Center\n",
    "       - Recreation Center\n",
    "    - It is possible that I could've included additional venues but these four can cover the majority of the reasonable locations\n",
    "\n",
    "2. Ease of access to food, either restaurants or grocery stores\n",
    "    - Again, similar to what is covered above for physical activites, there are a large number of possible venues that can be categorized as either a restaurant or grocery store. We include the following venues as restaurants:\n",
    "        - America Restaurant\n",
    "        - Asian Restaurant\n",
    "        - BBQ Joint\n",
    "        - Bakery\n",
    "        - Bar\n",
    "        - Bistro\n",
    "        - Brazilian Restaurant\n",
    "        - Breakfast Spot\n",
    "        - Brewery\n",
    "        - Bubble Tea Shop\n",
    "        - Buffet\n",
    "        - Burger Joint\n",
    "        - Burrito Place\n",
    "        - Cafe\n",
    "        - Cajun / Creole Restaurant\n",
    "        - Chinese Restaurant\n",
    "        - Coffee Shop\n",
    "        - Comfort Food Restaurant\n",
    "        - Deli / Bodega\n",
    "        - Dessert Shop\n",
    "        - Dim sum Restaurant\n",
    "        - Diner \n",
    "        - Donut Shop\n",
    "        - Eastern European Restaurant\n",
    "        - Falafel Restaurant\n",
    "        - Fast Food Restaurant\n",
    "        - Filipino Restaurant\n",
    "        - Fish & chips Shop\n",
    "        - Fondue Restaurant\n",
    "        - Food & Drink Shop\n",
    "        - Food Court\n",
    "        - Food Truck\n",
    "        - French Restaurant\n",
    "        - Fried Chicken Joint\n",
    "        - Gaming Cafe\n",
    "        - Gastropub\n",
    "        - German Restaurant\n",
    "        - Greek Restaurant\n",
    "        - Halal Restaurant\n",
    "        - Hot Dog Joint\n",
    "        - Hotpot Restaurant\n",
    "        - Ice Cream Shop\n",
    "        - Indian Restaurant\n",
    "        - Irish Pub\n",
    "        - Italian Restaurant\n",
    "        - Japanese Restaurant\n",
    "        - Korean Restaurant\n",
    "        - Latin American Restaurant\n",
    "        - Malay Restaurant\n",
    "        - Mediterranean Restaurant\n",
    "        - Mexican Restaurant\n",
    "        - Middle Eastern Restaurant\n",
    "        - New American Restaurant\n",
    "        - Noodle House\n",
    "        - Pizza Place\n",
    "        - Portugese Restaurant\n",
    "        - Poutine Place\n",
    "        - Pub \n",
    "        - Ramen Restaurant\n",
    "        - Restaurant\n",
    "        - Salad Place\n",
    "        - Sandwich Place\n",
    "        - Scandanavian Restaurant\n",
    "        - Seafood Restaurant\n",
    "        - Shanghai Restaurant\n",
    "        - Soup Place\n",
    "        - Steakhouse\n",
    "        - Sushi Restaurant\n",
    "        - Tapas Restaurant\n",
    "        - Tea Room\n",
    "        - Thai Restaurant\n",
    "        - Turkish Restaurant\n",
    "        - Vegetarian / Vegan Restaurant\n",
    "        - Vietnamese Restaurant\n",
    "        - Wings Joint\n",
    "    - Clearly there are a significant number of different types of restaurants. Luckily, there are fewer possible choices for grocery stores:\n",
    "        - Farmers Market\n",
    "        - Fruit & Vegetable Store\n",
    "        - Grocery Store\n",
    "        - Market\n",
    "        - Supermarket\n",
    "        - Warehouse Store\n",
    "    - This should reasonably cover all venue categories for both restaurants and grocery stores.\n",
    "\n",
    "3. Ease of access to furniture stores\n",
    "    - Unlike the previous categories, furniture stores are self contained in the single category:\n",
    "        - Furniture / Home Store\n",
    "\n",
    "In all three cases when we search using FourSquare, we combine all of our venues together into a single large dataframe and filter out any duplicates. This filtering can give us false negatives for neighbourhoods lacking in a given venue but to ensure we avoid this we perform a second visual check by plotting all of the valid venues overtop of the city."
   ]
  },
  {
   "cell_type": "markdown",
   "id": "helpful-finnish",
   "metadata": {},
   "source": [
    "## Results"
   ]
  },
  {
   "cell_type": "markdown",
   "id": "annual-ecuador",
   "metadata": {},
   "source": [
    "1. Ease of access to indoor physical activities\n",
    "\n",
    "- The venues that offer indoor physical activites in the city are denoted using the red circles and we see that there is a distinct lack of gyms/rec centers in the East central region and southwest Edmonton. The neighbourhood with the most rec centers is \"South Bonnie Doon, East University\". Unfortunately, due to the overlap of our search ranges, some of our neighbourhoods were incorrectly labelled as not having a gym/rec center nearby. Doing a quick visual check with the map we find that only 6 neighbourhoods are lacking a gym/rec center, these are:\n",
    "\n",
    "    - North Clover Bar\n",
    "    - North Capilano\n",
    "    - SE Capilano, West Southeast Industrial, East Bonnie Doon\n",
    "    - East Southeast Industrial, South Clover Bar\n",
    "    - Ellerslie\n",
    "    - Heritage Valley\n",
    "        \n",
    "![phys_rec](phys_rec.png)\n"
   ]
  },
  {
   "cell_type": "markdown",
   "id": "introductory-infrastructure",
   "metadata": {},
   "source": [
    "2. Ease of access to food, either restaurants or grocery stores\n",
    "\n",
    "- Using the FoursQuare API we can see that restaurants almost cover the entire city of Edmonton. Our quick analysis suggests that three neighbourhoods lack a restaurant, but again, similar to the analysis above for gyms/rec centers this is a false negative due to the overlap of our search radius. There do appear to be two gaps in the restaurant coverage however, one clear gap in the southwest region and another in the eastern-central region of the city. The restaurants are denoted on the map using small grey circles.\n",
    "        \n",
    "![restaurants](restaurants.png)\n",
    "\n",
    "- Again, unfortunately due to overlap of our search regions, some of our neighbourhoods are incorrectly classified as having no grocery stores. It appears as though all neighbourhoods have a grocery store nearby. similar to what was seen with restaurants, the southwest and east-central regions both appear to be lacking grocery stores. The grocery stores are denoted using small purple circles on the map.\n",
    "\n",
    "![grocery](grocery.png)\n",
    "    \n",
    "    "
   ]
  },
  {
   "cell_type": "markdown",
   "id": "pursuant-grammar",
   "metadata": {},
   "source": [
    "3. Ease of access to furniture stores\n",
    "\n",
    "- Based on the results from the FourSquare query, there are only a handful of furniture stores in Edmonton. Four in the North, two on the West and three in the South totalling to nine stores in total. Based on our results it can be argued that the East portion of the city or Downtown could benefit from a furniture store. The furniture stores are denoted using orange circles on the map.\n",
    "\n",
    "![furniture](furniture.png)"
   ]
  },
  {
   "cell_type": "markdown",
   "id": "flying-destination",
   "metadata": {},
   "source": [
    "## Discussion"
   ]
  },
  {
   "cell_type": "markdown",
   "id": "egyptian-belfast",
   "metadata": {},
   "source": [
    "At the start of the project, we aimed to learn more about the city of Edmonton by analyzing the distribution of what I feel are key venues in determining if there are more ideal neighbourhoods to live in the city. Using only the venue information using our Foursquare search we were able to generate databases to perform our analysis. Using this data I was able to determine the spread of:\n",
    "\n",
    "1. Locations for indoor physical activites\n",
    "2. Restaurants and grocery stores\n",
    "3. Furniture / housing stores\n",
    "\n",
    "These three different categories of venue can play an imporant role in determining if one wishes to live in an area."
   ]
  },
  {
   "cell_type": "markdown",
   "id": "appointed-subject",
   "metadata": {},
   "source": [
    "## Conclusion"
   ]
  },
  {
   "cell_type": "markdown",
   "id": "dedicated-punishment",
   "metadata": {},
   "source": [
    "Based on our results, there is a good distribution of physical activities, restaurants, grocery stores and furniture / housing stores throughout most of Edmonton. There are clear gaps in all venue types in the South West and East Central portion of the city. These gaps would make it difficult for anyone living in the area without a vehicle to access these venues. In the analysis of furniture stores we also find there is a gap in the city centre which could benefit from one of these stores."
   ]
  }
 ],
 "metadata": {
  "kernelspec": {
   "display_name": "Python 3",
   "language": "python",
   "name": "python3"
  },
  "language_info": {
   "codemirror_mode": {
    "name": "ipython",
    "version": 3
   },
   "file_extension": ".py",
   "mimetype": "text/x-python",
   "name": "python",
   "nbconvert_exporter": "python",
   "pygments_lexer": "ipython3",
   "version": "3.7.7"
  }
 },
 "nbformat": 4,
 "nbformat_minor": 5
}
