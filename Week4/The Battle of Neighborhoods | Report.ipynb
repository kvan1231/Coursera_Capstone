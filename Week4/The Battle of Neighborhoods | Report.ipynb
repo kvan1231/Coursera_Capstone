{
 "cells": [
  {
   "cell_type": "markdown",
   "id": "sitting-crawford",
   "metadata": {},
   "source": [
    "# The Battle of Neighborhoods | Report\n",
    "### Author: Kenny Van"
   ]
  },
  {
   "cell_type": "markdown",
   "id": "pursuant-saskatchewan",
   "metadata": {},
   "source": [
    "## Description:\n",
    "This description is taken from the Coursera assignment page:\n",
    "\n",
    "This capstone project will be graded by your peers. This capstone project is worth 70% of your total grade. The project will be completed over the course of 2 weeks.  Week 1 submissions will be worth 30% whereas week 2 submissions will be worth 40% of your total grade.\n",
    "\n",
    "For this week, you will required to submit the following:\n",
    "\n",
    "1. A description of the problem and a discussion of the background. (15 marks)\n",
    "2. A description of the data and how it will be used to solve the problem. (15 marks)\n",
    "\n",
    "For the second week, the final deliverables of the project will be:\n",
    "\n",
    "1. A link to your Notebook on your Github repository, showing your code. (15 marks)\n",
    "\n",
    "A full report consisting of all of the following components:\n",
    "\n",
    "- Introduction where you discuss the business problem and who would be interested in this project.\n",
    "- Data where you describe the data that will be used to solve the problem and the source of the data.\n",
    "- Methodology section which represents the main component of the report where you discuss and describe any exploratory data analysis that you did, any inferential statistical testing that you performed, if any, and what machine learnings were used and why.\n",
    "- Results section where you discuss the results.\n",
    "- Discussion section where you discuss any observations you noted and any recommendations you can make based on the results.\n",
    "- Conclusion section where you conclude the report."
   ]
  },
  {
   "cell_type": "markdown",
   "id": "considerable-badge",
   "metadata": {},
   "source": [
    "## Introduction\n",
    "The purpose of this project is to preform an analysis of Edmonton, the capital of Alberta. Edmonton is the second most populous city in the province with a touch under a million residents as of 2016 spread over 685.25 km$^2$. Being a decently sized city there are a wide range of venues with multiple universities, shopping centres and recreational areas. \n",
    "\n",
    "We will be aiming to create an analysis using the techniques learned in the specialization to generate information useful to those who currently live in Edmonton and people interested in moving there. We will also generate information on what amenities are where for developers looking to start a business in Edmonton.\n",
    "\n",
    "This project aims to determine the following properties about Edmonton:\n",
    "1. Which neighbourhood has the most schools?\n",
    "2. Which neighbourhood has the most recreational centers?\n",
    "3. Are there regions of the city where restaurants are more accessible?\n",
    "4. Are there regions of the city where grocery stores are more accessible?\n",
    "5. Is there an even distribution of furniture stores?\n",
    "\n",
    "The first four properties we will be trying to learn more about Edmonton directly influence where someone may choose to live in the city. Properties 3 and 4 would be more relevant to any developers in the food industry as entering an area with an over-abundance of either type of venue would be very difficult. Finally the last property would look at the number of furniture stores in Edmonton to determine if it would be reasonable to open a second Ikea in the area.\n",
    "\n"
   ]
  },
  {
   "cell_type": "markdown",
   "id": "imported-vision",
   "metadata": {},
   "source": [
    "## Data\n",
    "\n",
    "### Neighbourhood Data:\n",
    "\n",
    "The neighbourhood information of the city will be scraped from wikipedia:\n",
    "https://en.wikipedia.org/wiki/List_of_postal_codes_of_Canada:_T\n",
    "\n",
    "We will only keep results where the borough contains the word \"Edmonton\"\n",
    "\n",
    "### Foursquare API:\n",
    "\n",
    "This project will use the Foursquare API to gather venue information similar to what was done in week 3 for Toronton\n",
    "\n",
    "#### Schools/Rec Centers\n",
    "\n",
    "Using the Foursquare results we can search for schools within specific neighbourhoods and determine which neighbourhoods have the most schools/rec centers.\n",
    "\n",
    "#### Restaurants/Grocery Stores\n",
    "\n",
    "Again using the Foursquare API we can determine the number of restaurants and grocery stores near a neighbourhood.\n",
    "\n",
    "#### Furniture Stores\n",
    "\n",
    "Finding all of the furniture stores in Edmonton we can try to find any gaps in the map to determine if it is reasonable to open an additional Ikea.\n",
    "\n",
    "### Code/Libraries:\n",
    "\n",
    "Following what was done in Week 3, we will use the same libraries\n",
    "- numpy\n",
    "- pandas\n",
    "- json\n",
    "- geopy\n",
    "- matplotlib\n",
    "- folium\n",
    "- bs4"
   ]
  }
 ],
 "metadata": {
  "kernelspec": {
   "display_name": "Python 3",
   "language": "python",
   "name": "python3"
  },
  "language_info": {
   "codemirror_mode": {
    "name": "ipython",
    "version": 3
   },
   "file_extension": ".py",
   "mimetype": "text/x-python",
   "name": "python",
   "nbconvert_exporter": "python",
   "pygments_lexer": "ipython3",
   "version": "3.7.7"
  }
 },
 "nbformat": 4,
 "nbformat_minor": 5
}
